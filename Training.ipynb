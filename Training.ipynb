{
 "cells": [
  {
   "cell_type": "code",
   "execution_count": 2,
   "id": "70539da4-d6f3-42ca-8709-7252865dbfea",
   "metadata": {},
   "outputs": [
    {
     "name": "stdout",
     "output_type": "stream",
     "text": [
      "20\n",
      "[20, 30]\n",
      "[20, 30, 40, 50]\n",
      "[10, 20, 30]\n",
      "[10, 20, 30, 40, 50]\n"
     ]
    }
   ],
   "source": [
    "my_list =[10,20,30,40,50]\n",
    "print(my_list[1])\n",
    "print(my_list[1:3])\n",
    "print(my_list[1:])\n",
    "print(my_list[:3])\n",
    "print(my_list[:])"
   ]
  },
  {
   "cell_type": "code",
   "execution_count": 4,
   "id": "bc7819f7-f745-4a2b-bcc1-f9e8859e80ba",
   "metadata": {},
   "outputs": [
    {
     "name": "stdout",
     "output_type": "stream",
     "text": [
      "30\n",
      "60\n",
      "90\n",
      "120\n"
     ]
    }
   ],
   "source": [
    "my_list = [10,20,30,40]\n",
    "for item in my_list:\n",
    "    print(3*item)"
   ]
  },
  {
   "cell_type": "code",
   "execution_count": 2,
   "id": "57da8b16-c653-413a-9dd6-3c0ab83e02cd",
   "metadata": {},
   "outputs": [
    {
     "name": "stdout",
     "output_type": "stream",
     "text": [
      "(['apple', 10], ['orange', 25], ['Banana', 50], ['mango', 15])\n"
     ]
    }
   ],
   "source": [
    "orders=[\"apple\",10],[\"orange\",25],[\"Banana\",50],[\"mango\",15]\n",
    "for each in orders:\n",
    "    if each[0] == \"cherry\":\n",
    "        each[1]=10\n",
    "print(orders)"
   ]
  },
  {
   "cell_type": "code",
   "execution_count": 12,
   "id": "86094f45-cc04-4db6-830a-cda3a8f807f4",
   "metadata": {},
   "outputs": [
    {
     "name": "stdout",
     "output_type": "stream",
     "text": [
      "[10, 30]\n",
      "40\n"
     ]
    }
   ],
   "source": [
    "orders=[\"apple\",10],[\"orange\",25],[\"Banana\",50],[\"mango\",15],[\"apple\",30]\n",
    "apple_orders=[]\n",
    "for each in orders:\n",
    "    if each[0]=='apple':\n",
    "        apple_orders.append(each[1])\n",
    "print(apple_orders)\n",
    "print(sum(apple_orders))"
   ]
  },
  {
   "cell_type": "code",
   "execution_count": 16,
   "id": "64b70ad4-77a4-48f2-abd6-3e088fcd9057",
   "metadata": {},
   "outputs": [],
   "source": [
    "tup1= (3,59,10)"
   ]
  },
  {
   "cell_type": "code",
   "execution_count": 18,
   "id": "d93b920b-ccae-4911-88a4-a644f6fa4397",
   "metadata": {},
   "outputs": [],
   "source": [
    "tup2=(10,20,30,'H')"
   ]
  },
  {
   "cell_type": "code",
   "execution_count": 22,
   "id": "fa5c4feb-a91c-4541-a7f0-e19ecc5e2a34",
   "metadata": {},
   "outputs": [],
   "source": [
    "tup3=tuple([1,2,5,7])"
   ]
  },
  {
   "cell_type": "code",
   "execution_count": 28,
   "id": "efe61a24-78cf-45db-92c1-8099fe2a67b5",
   "metadata": {},
   "outputs": [
    {
     "name": "stdout",
     "output_type": "stream",
     "text": [
      "(3, 59, 10)\n",
      "(10, 20, 30, 'H')\n",
      "(1, 2, 5, 7)\n"
     ]
    }
   ],
   "source": [
    "print(tup1)\n",
    "print(tup2)\n",
    "print(tup3)"
   ]
  },
  {
   "cell_type": "code",
   "execution_count": 30,
   "id": "6982170a-87de-4b1c-ba3f-19a859b84daa",
   "metadata": {},
   "outputs": [
    {
     "name": "stdout",
     "output_type": "stream",
     "text": [
      "([3, 9, 5], (10, 20, 30), 'hello', 10.5)\n"
     ]
    }
   ],
   "source": [
    "tup4=([3,9,5],(10,20,30),\"hello\",10.5)\n",
    "print(tup4)"
   ]
  },
  {
   "cell_type": "code",
   "execution_count": 32,
   "id": "6d4f86af-b909-4aad-a8dd-88497b35912b",
   "metadata": {},
   "outputs": [
    {
     "data": {
      "text/plain": [
       "([3, 9, 10], (10, 20, 30), 'hello', 10.5)"
      ]
     },
     "execution_count": 32,
     "metadata": {},
     "output_type": "execute_result"
    }
   ],
   "source": [
    "tup4[0][2]=10\n",
    "tup4"
   ]
  },
  {
   "cell_type": "code",
   "execution_count": 38,
   "id": "7788d914-f1d9-474b-87a1-f7c60cf552cd",
   "metadata": {},
   "outputs": [
    {
     "data": {
      "text/plain": [
       "2"
      ]
     },
     "execution_count": 38,
     "metadata": {},
     "output_type": "execute_result"
    }
   ],
   "source": [
    "tup4.index('hello')"
   ]
  },
  {
   "cell_type": "code",
   "execution_count": 46,
   "id": "da58d5ac-55a0-45f7-a9b7-4c42f715c8b2",
   "metadata": {},
   "outputs": [
    {
     "data": {
      "text/plain": [
       "2"
      ]
     },
     "execution_count": 46,
     "metadata": {},
     "output_type": "execute_result"
    }
   ],
   "source": [
    "tup5=(10,20,1,10,10,30,10,1)\n",
    "tup5.count(1)"
   ]
  },
  {
   "cell_type": "code",
   "execution_count": 2,
   "id": "e7d6bb27-d649-4b8f-9ff6-cb607cb2beab",
   "metadata": {},
   "outputs": [
    {
     "name": "stdout",
     "output_type": "stream",
     "text": [
      "{'a': 1, 'b': 2, 'c': 3}\n",
      "<class 'dict'>\n"
     ]
    }
   ],
   "source": [
    "d1 = {\"a\": 1,\"b\": 2,\"c\": 3}\n",
    "print(d1)\n",
    "print(type(d1))"
   ]
  },
  {
   "cell_type": "code",
   "execution_count": 4,
   "id": "192219e5-9b8f-4413-911d-3089058b250f",
   "metadata": {},
   "outputs": [
    {
     "name": "stdout",
     "output_type": "stream",
     "text": [
      "{'A': 10, 'B': 20, 'C': 30}\n"
     ]
    }
   ],
   "source": [
    "d2 = dict(A=10, B=20, C=30)\n",
    "print(d2)"
   ]
  },
  {
   "cell_type": "code",
   "execution_count": 6,
   "id": "4f9a1885-f448-41c9-b714-3d37549fae84",
   "metadata": {},
   "outputs": [
    {
     "name": "stdout",
     "output_type": "stream",
     "text": [
      "{'x': 1, 'y': 2, 'z': 3}\n"
     ]
    }
   ],
   "source": [
    "d3 = dict([(\"x\", 1), (\"y\", 2), (\"z\", 3)])\n",
    "print(d3)"
   ]
  },
  {
   "cell_type": "code",
   "execution_count": 8,
   "id": "2685dd4d-be2f-49cc-ae91-fe4ef49f02e9",
   "metadata": {},
   "outputs": [
    {
     "name": "stdout",
     "output_type": "stream",
     "text": [
      "dict_keys(['a', 'b', 'c'])\n",
      "dict_values([1, 2, 3])\n",
      "dict_items([('a', 1), ('b', 2), ('c', 3)])\n"
     ]
    }
   ],
   "source": [
    "print(d1.keys())\n",
    "print(d1.values())\n",
    "print(d1.items())"
   ]
  },
  {
   "cell_type": "code",
   "execution_count": 10,
   "id": "021cccef-d789-42b3-a76b-a4220e7841ef",
   "metadata": {},
   "outputs": [
    {
     "name": "stdout",
     "output_type": "stream",
     "text": [
      "dict_keys(['A', 'B', 'C'])\n",
      "dict_values([10, 20, 30])\n",
      "dict_items([('A', 10), ('B', 20), ('C', 30)])\n"
     ]
    }
   ],
   "source": [
    "print(d2.keys())\n",
    "print(d2.values())\n",
    "print(d2.items())"
   ]
  },
  {
   "cell_type": "code",
   "execution_count": 12,
   "id": "a7cdbac1-7447-40ed-8306-d7c584e6f934",
   "metadata": {},
   "outputs": [
    {
     "data": {
      "text/plain": [
       "['__class__',\n",
       " '__class_getitem__',\n",
       " '__contains__',\n",
       " '__delattr__',\n",
       " '__delitem__',\n",
       " '__dir__',\n",
       " '__doc__',\n",
       " '__eq__',\n",
       " '__format__',\n",
       " '__ge__',\n",
       " '__getattribute__',\n",
       " '__getitem__',\n",
       " '__getstate__',\n",
       " '__gt__',\n",
       " '__hash__',\n",
       " '__init__',\n",
       " '__init_subclass__',\n",
       " '__ior__',\n",
       " '__iter__',\n",
       " '__le__',\n",
       " '__len__',\n",
       " '__lt__',\n",
       " '__ne__',\n",
       " '__new__',\n",
       " '__or__',\n",
       " '__reduce__',\n",
       " '__reduce_ex__',\n",
       " '__repr__',\n",
       " '__reversed__',\n",
       " '__ror__',\n",
       " '__setattr__',\n",
       " '__setitem__',\n",
       " '__sizeof__',\n",
       " '__str__',\n",
       " '__subclasshook__',\n",
       " 'clear',\n",
       " 'copy',\n",
       " 'fromkeys',\n",
       " 'get',\n",
       " 'items',\n",
       " 'keys',\n",
       " 'pop',\n",
       " 'popitem',\n",
       " 'setdefault',\n",
       " 'update',\n",
       " 'values']"
      ]
     },
     "execution_count": 12,
     "metadata": {},
     "output_type": "execute_result"
    }
   ],
   "source": [
    "dir(dict)"
   ]
  },
  {
   "cell_type": "code",
   "execution_count": 3,
   "id": "17c1c4e8-fd91-44f2-8a57-7e3e5db3e8e4",
   "metadata": {},
   "outputs": [
    {
     "name": "stdout",
     "output_type": "stream",
     "text": [
      "{'Virat': 90, 'Rohit': 100, 'Rahul': 70, 'Hardik': 9, 'Gill': 20, 'Jadeja': 30, 'Siraz': 15}\n"
     ]
    }
   ],
   "source": [
    "Scores = {'Virat': 90, 'Rohit': 100, 'Rahul': 70, 'Hardik': 9, 'Gill': 20, 'Jadeja': 30, 'Siraz': 15}\n",
    "print(Scores)"
   ]
  },
  {
   "cell_type": "code",
   "execution_count": 5,
   "id": "c7ff07ef-47fc-47f0-9a28-4cfb8810c08e",
   "metadata": {},
   "outputs": [
    {
     "name": "stdout",
     "output_type": "stream",
     "text": [
      "{'Virat': 90, 'Rohit': 100, 'Rahul': 70, 'Hardik': 9, 'Gill': 20, 'Jadeja': 50, 'Siraz': 15}\n"
     ]
    }
   ],
   "source": [
    "Scores.update({\"Jadeja\":50})\n",
    "print(Scores)"
   ]
  },
  {
   "cell_type": "code",
   "execution_count": 7,
   "id": "b6914fb1-dfa3-4a54-8e59-6b817485003b",
   "metadata": {},
   "outputs": [
    {
     "data": {
      "text/plain": [
       "{'Virat': 90,\n",
       " 'Rohit': 100,\n",
       " 'Rahul': 30,\n",
       " 'Hardik': 45,\n",
       " 'Gill': 20,\n",
       " 'Jadeja': 50,\n",
       " 'Siraz': 15}"
      ]
     },
     "execution_count": 7,
     "metadata": {},
     "output_type": "execute_result"
    }
   ],
   "source": [
    "Scores.update({\"Hardik\":45, \"Rahul\": 30})\n",
    "Scores"
   ]
  },
  {
   "cell_type": "code",
   "execution_count": 11,
   "id": "4cc1e950-e4d7-40a4-8368-4cc1af88b9df",
   "metadata": {},
   "outputs": [
    {
     "data": {
      "text/plain": [
       "{'Virat': 90,\n",
       " 'Rohit': 100,\n",
       " 'Rahul': 30,\n",
       " 'Hardik': 45,\n",
       " 'Gill': 20,\n",
       " 'Jadeja': 50,\n",
       " 'Siraz': 15}"
      ]
     },
     "execution_count": 11,
     "metadata": {},
     "output_type": "execute_result"
    }
   ],
   "source": [
    "Scores.setdefault(\"Rahul\",60)\n",
    "Scores"
   ]
  },
  {
   "cell_type": "code",
   "execution_count": 13,
   "id": "99d45daa-992c-4836-b3b5-9af309bca1a8",
   "metadata": {},
   "outputs": [
    {
     "data": {
      "text/plain": [
       "{'Virat': 90,\n",
       " 'Rohit': 100,\n",
       " 'Rahul': 30,\n",
       " 'Hardik': 45,\n",
       " 'Gill': 20,\n",
       " 'Jadeja': 50,\n",
       " 'Siraz': 15,\n",
       " 'Pujara': 79}"
      ]
     },
     "execution_count": 13,
     "metadata": {},
     "output_type": "execute_result"
    }
   ],
   "source": [
    "Scores.setdefault(\"Pujara\",79)\n",
    "Scores"
   ]
  },
  {
   "cell_type": "code",
   "execution_count": 15,
   "id": "410f3ef2-752b-4334-bf14-88b26100f4c5",
   "metadata": {},
   "outputs": [
    {
     "data": {
      "text/plain": [
       "{'Virat': 90,\n",
       " 'Rohit': 100,\n",
       " 'Rahul': 30,\n",
       " 'Hardik': 45,\n",
       " 'Gill': 20,\n",
       " 'Jadeja': 50,\n",
       " 'Siraz': 15}"
      ]
     },
     "execution_count": 15,
     "metadata": {},
     "output_type": "execute_result"
    }
   ],
   "source": [
    "Scores.popitem()\n",
    "Scores"
   ]
  },
  {
   "cell_type": "code",
   "execution_count": 17,
   "id": "b76db6b6-1891-4cbb-9043-a597405aa573",
   "metadata": {},
   "outputs": [
    {
     "data": {
      "text/plain": [
       "{'Virat': 90,\n",
       " 'Rohit': 100,\n",
       " 'Rahul': 30,\n",
       " 'Hardik': 45,\n",
       " 'Jadeja': 50,\n",
       " 'Siraz': 15}"
      ]
     },
     "execution_count": 17,
     "metadata": {},
     "output_type": "execute_result"
    }
   ],
   "source": [
    "Scores.pop(\"Gill\")\n",
    "Scores"
   ]
  },
  {
   "cell_type": "code",
   "execution_count": 19,
   "id": "6577b88e-bcff-4bea-bf15-6594dc5b106d",
   "metadata": {},
   "outputs": [
    {
     "data": {
      "text/plain": [
       "15"
      ]
     },
     "execution_count": 19,
     "metadata": {},
     "output_type": "execute_result"
    }
   ],
   "source": [
    "Scores.get(\"Siraz\")"
   ]
  },
  {
   "cell_type": "code",
   "execution_count": 21,
   "id": "b4701504-d2ed-401b-a38b-ff417256f924",
   "metadata": {},
   "outputs": [
    {
     "data": {
      "text/plain": [
       "{'A': None, 'B': None, 'C': None, 'D': None}"
      ]
     },
     "execution_count": 21,
     "metadata": {},
     "output_type": "execute_result"
    }
   ],
   "source": [
    "list1= [\"A\",\"B\",\"C\",\"D\"]\n",
    "my_dict =dict.fromkeys(list1)\n",
    "my_dict"
   ]
  },
  {
   "cell_type": "code",
   "execution_count": 25,
   "id": "b47c2e05-2817-4a91-831b-8cfe6c0dfd10",
   "metadata": {},
   "outputs": [
    {
     "data": {
      "text/plain": [
       "{'A': 10, 'B': 20, 'C': None, 'D': None}"
      ]
     },
     "execution_count": 25,
     "metadata": {},
     "output_type": "execute_result"
    }
   ],
   "source": [
    "my_dict.update({\"A\":10,\"B\":20})\n",
    "my_dict"
   ]
  },
  {
   "cell_type": "code",
   "execution_count": 27,
   "id": "e53e6e31-d8aa-4b9b-b4ed-c354f2331424",
   "metadata": {},
   "outputs": [
    {
     "data": {
      "text/plain": [
       "{'A': 20, 'B': 20, 'C': 20, 'D': 20}"
      ]
     },
     "execution_count": 27,
     "metadata": {},
     "output_type": "execute_result"
    }
   ],
   "source": [
    "my_dict =dict.fromkeys(list1,20)\n",
    "my_dict"
   ]
  },
  {
   "cell_type": "code",
   "execution_count": 31,
   "id": "5277befc-a7e5-40c0-a5ca-d73bab8e1a08",
   "metadata": {},
   "outputs": [
    {
     "data": {
      "text/plain": [
       "{'A': 30, 'B': 40, 'C': 20, 'D': 20}"
      ]
     },
     "execution_count": 31,
     "metadata": {},
     "output_type": "execute_result"
    }
   ],
   "source": [
    "my_dict.update({\"A\":30,\"B\":40})\n",
    "my_dict"
   ]
  },
  {
   "cell_type": "code",
   "execution_count": null,
   "id": "3c3f5605-6e5b-4626-95d1-58d903fc0b32",
   "metadata": {},
   "outputs": [],
   "source": [
    "    "
   ]
  }
 ],
 "metadata": {
  "kernelspec": {
   "display_name": "Python [conda env:base] *",
   "language": "python",
   "name": "conda-base-py"
  },
  "language_info": {
   "codemirror_mode": {
    "name": "ipython",
    "version": 3
   },
   "file_extension": ".py",
   "mimetype": "text/x-python",
   "name": "python",
   "nbconvert_exporter": "python",
   "pygments_lexer": "ipython3",
   "version": "3.12.7"
  }
 },
 "nbformat": 4,
 "nbformat_minor": 5
}
